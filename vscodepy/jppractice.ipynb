{
 "cells": [
  {
   "cell_type": "markdown",
   "metadata": {},
   "source": [
    "# 代码如下"
   ]
  },
  {
   "cell_type": "code",
   "execution_count": 9,
   "metadata": {},
   "outputs": [
    {
     "name": "stdout",
     "output_type": "stream",
     "text": [
      "200\n"
     ]
    },
    {
     "data": {
      "text/plain": [
       "<wordcloud.wordcloud.WordCloud at 0x27790d32930>"
      ]
     },
     "execution_count": 9,
     "metadata": {},
     "output_type": "execute_result"
    }
   ],
   "source": [
    "from wordcloud import WordCloud\n",
    "import jieba.analyse\n",
    "\n",
    "### 需要修改的参数\n",
    "\n",
    "# 数据的位置，请使用.csv后缀的数据\n",
    "data_path = r\"E:\\pycharm practice\\zhengda.csv\"\n",
    "#停词路径\n",
    "stopwords_path = r\"C:\\Users\\周俊杰\\Desktop\\临时\\stopwords.txt\"\n",
    "#将图片存储的位置路径\n",
    "photo_saved_path = r\"C:\\Users\\周俊杰\\Desktop\\临时\"\n",
    "#将图片命名，请输入字符串类型，即在名称前后加上英文状态下的单/双引号，如\"我是图片的名称\"\n",
    "photo_name = \"词云图2\"\n",
    "\n",
    "\n",
    "### 代码部分，不要修改\n",
    "\n",
    "#合成完整图片存储路径\n",
    "photo_saved = f\"{photo_saved_path}\\\\{photo_name}.png\"\n",
    "\n",
    "# 设置停用词\n",
    "jieba.analyse.set_stop_words(stopwords_path)\n",
    "\n",
    "# 创建 WordCloud 对象，scale参数调整清晰度\n",
    "wordcloud_generator = WordCloud(\n",
    "    width=1000,\n",
    "    height=700,\n",
    "    background_color='white',\n",
    "    font_path='msyh.ttc',\n",
    "    scale=15\n",
    ")\n",
    "\n",
    "# 读取 CSV 文件并切词\n",
    "with open(data_path, \"r\", newline='', encoding='utf-8') as f:\n",
    "    lines = f.read()\n",
    "    words = jieba.analyse.extract_tags(lines,topK=200)\n",
    "print(len(words))\n",
    "\n",
    "# 生成词云并保存为图像文件\n",
    "wordcloud_generator.generate(' '.join(words))\n",
    "wordcloud_generator.to_file(photo_saved)\n"
   ]
  }
 ],
 "metadata": {
  "kernelspec": {
   "display_name": "duplicate_base",
   "language": "python",
   "name": "python3"
  },
  "language_info": {
   "codemirror_mode": {
    "name": "ipython",
    "version": 3
   },
   "file_extension": ".py",
   "mimetype": "text/x-python",
   "name": "python",
   "nbconvert_exporter": "python",
   "pygments_lexer": "ipython3",
   "version": "3.12.4"
  }
 },
 "nbformat": 4,
 "nbformat_minor": 4
}
