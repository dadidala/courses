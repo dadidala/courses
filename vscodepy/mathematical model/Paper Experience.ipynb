{
 "cells": [
  {
   "cell_type": "markdown",
   "id": "8d7823ac-7917-4e40-b660-b23c0a337937",
   "metadata": {},
   "source": [
    "* 有时候论文读的某个知识点不懂的时候，可以看看这个知识点前后的部分段落的内容（大概是你没看完前提条件，或后文的解说）——商超补货\n",
    "* 将数据预测作为约束\n",
    "* 确保数据的时效性,以近\n",
    "半的年日销售量为原始数，进行时间序列预测\n",
    "* 关于分对称性：意思就是你投入精力去做A事，成功获得的回报是10￥，如果失败损失1000￥，这就是非对称性\n",
    "* 据\n"
   ]
  },
  {
   "cell_type": "markdown",
   "id": "718defbe-0e65-4622-a4f0-429320ce3833",
   "metadata": {},
   "source": [
    "# [商超蔬菜补货策略 the paper 4.4.2 formula（2）](https://kns.cnki.net/kcms2/article/abstract?v=su5nt4ZpZVShNnKJwoOSnKxrGBf1cjw4Ee8sbWnUX_IaMbXqAUadQ4fvAsDRHVoM3-GEuKyyEr66kqAlkUKm6RaR4yOBCOB4McwDg_p1Rpp3pzfGjO_lc97V9s_6h9dhlmHUJdIoguKcJZJkuTeZegPkE_DuadpLYtogqb5a3sFiGMvgl4qaMWnsW75IbhTX3te_CI75jf86WWinCnF4VoB9nchF7htcJhV-bhTWV84DSdwtY6qkvSHOy3DizHJ8&uniplatform=NZKPT)  "
   ]
  },
  {
   "attachments": {},
   "cell_type": "markdown",
   "id": "ebd96b25-bcba-4aaa-a164-8e2f031a328d",
   "metadata": {},
   "source": [
    "## 心得：  \n",
    "* 我们实际购买量$C$（包括了损坏率$L$），则$C(1-L)=W$,这里的$W$是指我们算过损耗率之后的剩余商品\n",
    "* \n",
    "\n",
    "\n",
    "这里阐述了出现损坏率的物品的利润，其中损坏率一般指平均损坏率：\n",
    "$$\\begin{align}\n",
    "总收益& =销量\\times 利润-补货量\\times 损坏率 \\times单位成本\\\\\n",
    "& = 销量\\times (定价-单位成本)-补货量\\times 损坏率 \\times 单位成本\\\\\n",
    "\\end{align}$$\n",
    "对上述公式可以这样理解商家总共买入的商品的数量是大于销售量的，因为存在损耗率，也就是\n",
    "$$\n",
    "\\begin{align}\n",
    "总收益& =销量\\times 利润-补货量\\times 损坏率 \\times单位成本\\\\\n",
    "总收益& =销量\\times 定价-实际买入量\\times 单位成本\\\\\n",
    "& =销量\\times 定价-(预测买入量+预测损耗量)\\times 单位成本\\\\\n",
    "& =\n",
    "\\end{align}\n",
    "$$\n",
    "*\n",
    "补货量=卖出的补货量+损耗的补货量=卖出的补货量(1+L)  \n",
    "实际买入量=预测量+预测损耗量=预测量(1+L)\n",
    "\n",
    "$$\n",
    "\\begin{align}\n",
    "总买入量=实际买入量+补货量\\\\\n",
    "&=(预测量+预测损耗量)+(卖出的补货量+损耗的补货量)\n",
    "\\end{align}\n",
    "$$\n",
    "\n",
    "$$\n",
    "\\begin{align}\n",
    "销量=预测量+卖出的补货量 \\\\\n",
    "&=(实际买入量-预测损耗量)+(补货量-损耗的补货量 )\\\\\n",
    "&=预测量+卖出补货量\n",
    "\\end{align}\n",
    "$$\n",
    "$$\n",
    "\\begin{align}\n",
    "总收益&=销量\\times 定价-总买入量\\times 单位批发价\\\\\n",
    "&=(预测量+卖出的补货量)\\times 定价-(预测量+预测损耗量+卖出的补货量+损耗的补货量)\\times 单位批发价\\\\\n",
    "&=(预测量+卖出的补货量)\\times 定价-[预测量(1+L)+卖出的补货量(1+L)]\\times 单位批发价\\\\\n",
    "&=(预测量+卖出的补货量)\\times 定价-(预测量+卖出的补货量)[(1+L)\\times 单位批发价]\\\\\n",
    "&=(预测量+卖出的补货量)\\times 定价-(预测量+卖出的补货量)\\times 单位成本\\\\\n",
    "&=(预测量+卖出的补货量)\\times (定价-单位成本)\\\\\n",
    "&=销量\\times 利润\n",
    "\\end{align}\n",
    "$$\n",
    "\n",
    "**靠，就感觉不对头，刚写到这，再看那个论文里面的内容感觉就很有问题**\n",
    "\n",
    "\n",
    "\n",
    "## 有关下列公式的解释（from \"newsvendor model\"）  \n",
    "$$\n",
    "\\begin{align}\n",
    "\\pi(t)=\\sum_i\\left[P_i\\cdot min\\left\\{(1-\\eta_i)Q_i(t),D_i(t)\\right\\}-C_i(t)Q_i(t)\\right ]\\\\\n",
    "\\end{align}\n",
    "$$\n",
    "\n",
    "其中$P_i(t)$是指第$i$个商品的售卖价，$\\eta_i$是指第当前商品的损耗率，$Q_i$是指补货量，$D_i$是指市场需求量$C_i$是指成本；   \n",
    "对上述公式中的$min$进行解读，这里面的第一个元素是指实际购买量（已算损耗率），第二个是指市场需求，为什么要求$min$呢？是因为当实际购买量大于需求量的时候，属于供大于需，满足需求之后，多的部分不再获利（打折销售是考虑在损耗率里面的式子）就选择元素二；反之，若实际购买量小于需求量的时候，属于供不应求，选择元素一  "
   ]
  }
 ],
 "metadata": {
  "kernelspec": {
   "display_name": "duplicate_base",
   "language": "python",
   "name": "duplicate_base"
  },
  "language_info": {
   "codemirror_mode": {
    "name": "ipython",
    "version": 3
   },
   "file_extension": ".py",
   "mimetype": "text/x-python",
   "name": "python",
   "nbconvert_exporter": "python",
   "pygments_lexer": "ipython3",
   "version": "3.12.4"
  }
 },
 "nbformat": 4,
 "nbformat_minor": 5
}
