{
 "cells": [
  {
   "cell_type": "markdown",
   "metadata": {},
   "source": [
    "# Tips"
   ]
  },
  {
   "cell_type": "markdown",
   "metadata": {},
   "source": [
    "* 关于.csv 文件和.xlsx 文件的解释，.csv 文件是文本文件需要设置编码方式的参数 encode=''，而.xlsx 文件是二进制文件不需要设置编码方式  "
   ]
  },
  {
   "cell_type": "markdown",
   "metadata": {},
   "source": [
    "# f-sting python格式化输出"
   ]
  },
  {
   "cell_type": "markdown",
   "metadata": {},
   "source": [
    "在上面的代码中，不需要r在f - string前面。r是用于原始字符串（raw string）的前缀，主要用于避免对字符串中的特殊字符（如反斜杠\\）进行转义处理。在这里，在定义photo_saved_path时已经使用r将其定义为原始字符串了，在组合路径和文件名时，直接使用f - string就可以正确地将它们组合起来  \n",
    "data_path = r\"E:\\pycharm practice\\zhengda.csv\"  \n",
    "stopwords_path = r\"C:\\Users\\周俊杰\\Desktop\\临时\\stopwords.txt\"  \n",
    "photo_saved_path = r\"C:\\Users\\周俊杰\\Desktop\\临时\"  \n",
    "photo_name = \"词云图2\"  \n",
    "#photo_saved的路径并不需要再使用原始字符串\"r\"了，因为在photo_saved_path中已经把路径进行了初始化了，在拼接的时候只需添加 转义符+文件名+后缀  \n",
    "photo_saved = f\"{photo_saved_path}\\\\{photo_name}.png\"  "
   ]
  },
  {
   "cell_type": "markdown",
   "metadata": {},
   "source": [
    "# 字典的知识 _gpt"
   ]
  },
  {
   "cell_type": "markdown",
   "metadata": {},
   "source": [
    "在 Python 中，**字典**（dictionary）是一种用于存储 **键-值对**（key-value pair）的数据结构。字典是可变的（即可以修改内容），无序的（在 Python 3.7 之前无序，从 Python 3.7 开始字典保持插入顺序），且键是唯一的。字典是 Python 中非常重要且常用的内置数据类型，类似于其他编程语言中的 **哈希表** 或 **映射**。\n",
    "\n",
    "### 字典的基本特点：\n",
    "\n",
    "1. **键-值对**：字典中的每个元素是一个键和值的组合，形式为 `key: value`。\n",
    "2. **键的唯一性**：字典的键必须是唯一的，不能重复。键可以是任何不可变的数据类型，如字符串、数字、元组等。\n",
    "3. **可变性**：字典是可变的，可以动态添加、修改和删除元素。\n",
    "4. **无序**：字典元素没有顺序，无法通过索引访问，但可以通过键访问对应的值。\n",
    "\n",
    "### 字典的创建\n",
    "\n",
    "字典可以通过以下几种方式创建：\n",
    "\n",
    "#### 1. 使用花括号 `{}` 创建字典：\n",
    "```python\n",
    "my_dict = {'name': 'Alice', 'age': 25, 'city': 'New York'}\n",
    "```\n",
    "\n",
    "#### 2. 使用 `dict()` 构造函数：\n",
    "```python\n",
    "my_dict = dict(name='Alice', age=25, city='New York')\n",
    "```\n",
    "\n",
    "#### 3. 空字典：\n",
    "```python\n",
    "empty_dict = {}\n",
    "```\n",
    "\n",
    "### 字典的基本操作\n",
    "\n",
    "#### 1. **访问字典中的值**\n",
    "\n",
    "通过键访问对应的值：\n",
    "```python\n",
    "my_dict = {'name': 'Alice', 'age': 25, 'city': 'New York'}\n",
    "print(my_dict['name'])  # 输出：Alice\n",
    "```\n",
    "\n",
    "如果尝试访问不存在的键，会抛出 `KeyError` 错误。为了避免这个问题，可以使用 `get()` 方法，它会在键不存在时返回 `None` 或指定的默认值：\n",
    "\n",
    "```python\n",
    "print(my_dict.get('name'))  # 输出：Alice\n",
    "print(my_dict.get('country', 'Unknown'))  # 输出：Unknown\n",
    "```\n",
    "\n",
    "#### 2. **添加或修改字典中的键值对**\n",
    "\n",
    "字典是可变的，能够动态添加或修改值：\n",
    "```python\n",
    "my_dict['age'] = 26  # 修改已有键\n",
    "my_dict['country'] = 'USA'  # 添加新键\n",
    "print(my_dict)  # 输出：{'name': 'Alice', 'age': 26, 'city': 'New York', 'country': 'USA'}\n",
    "```\n",
    "\n",
    "#### 3. **删除字典中的键值对**\n",
    "\n",
    "可以使用 `del` 关键字或 `pop()` 方法删除字典中的某个键值对：\n",
    "```python\n",
    "del my_dict['age']  # 删除键 'age'\n",
    "my_dict.pop('city')  # 删除并返回键 'city' 的值\n",
    "print(my_dict)  # 输出：{'name': 'Alice', 'country': 'USA'}\n",
    "```\n",
    "\n",
    "#### 4. **检查字典中是否包含某个键**\n",
    "\n",
    "可以使用 `in` 关键字来检查字典中是否存在某个键：\n",
    "```python\n",
    "if 'name' in my_dict:\n",
    "    print('Name is in the dictionary')\n",
    "```\n",
    "\n",
    "#### 5. **遍历字典**\n",
    "\n",
    "字典可以通过多种方式遍历：\n",
    "\n",
    "- 遍历键：\n",
    "```python\n",
    "for key in my_dict:\n",
    "    print(key)\n",
    "```\n",
    "\n",
    "- 遍历值：\n",
    "```python\n",
    "for value in my_dict.values():\n",
    "    print(value)\n",
    "```\n",
    "\n",
    "- 遍历键值对：\n",
    "```python\n",
    "for key, value in my_dict.items():\n",
    "    print(f\"{key}: {value}\")\n",
    "```\n",
    "\n",
    "### 字典的内置方法\n",
    "\n",
    "Python 提供了许多用于字典操作的内置方法。常用方法包括：\n",
    "\n",
    "- `keys()`：返回字典中的所有键。\n",
    "- `values()`：返回字典中的所有值。\n",
    "- `items()`：返回字典中的所有键值对。\n",
    "- `update()`：将另一个字典或可迭代对象中的键值对更新到当前字典中。\n",
    "- `clear()`：清空字典，删除所有键值对。\n",
    "\n",
    "#### 例子：\n",
    "```python\n",
    "my_dict = {'name': 'Alice', 'age': 25, 'city': 'New York'}\n",
    "\n",
    "# 获取所有键\n",
    "keys = my_dict.keys()\n",
    "print(keys)  # 输出：dict_keys(['name', 'age', 'city'])\n",
    "\n",
    "# 获取所有值\n",
    "values = my_dict.values()\n",
    "print(values)  # 输出：dict_values(['Alice', 25, 'New York'])\n",
    "\n",
    "# 获取所有键值对\n",
    "items = my_dict.items()\n",
    "print(items)  # 输出：dict_items([('name', 'Alice'), ('age', 25), ('city', 'New York')])\n",
    "\n",
    "# 使用另一个字典更新当前字典\n",
    "my_dict.update({'country': 'USA', 'age': 26})\n",
    "print(my_dict)  # 输出：{'name': 'Alice', 'age': 26, 'city': 'New York', 'country': 'USA'}\n",
    "\n",
    "# 清空字典\n",
    "my_dict.clear()\n",
    "print(my_dict)  # 输出：{}\n",
    "```\n",
    "\n",
    "### 字典在实际应用中的例子\n",
    "\n",
    "字典在处理需要通过键查找值的场景时非常有用。常见的应用场景包括：\n",
    "\n",
    "- **存储配置信息**：\n",
    "```python\n",
    "config = {\n",
    "    'host': 'localhost',\n",
    "    'port': 8080,\n",
    "    'debug': True\n",
    "}\n",
    "```\n",
    "\n",
    "- **计数器**：使用字典统计数据出现的频率。\n",
    "```python\n",
    "text = \"hello world\"\n",
    "counter = {}\n",
    "for char in text:\n",
    "    counter[char] = counter.get(char, 0) + 1\n",
    "print(counter)  # 输出：{'h': 1, 'e': 1, 'l': 3, 'o': 2, ' ': 1, 'w': 1, 'r': 1, 'd': 1}\n",
    "```\n",
    "\n",
    "### 字典的优势\n",
    "1. **查找速度快**：字典通过键来快速查找对应的值，效率非常高，查找时间复杂度接近 O(1)。\n",
    "2. **键值对映射**：适用于需要根据键值对存储和查找数据的场景，如用户配置、数据统计等。\n",
    "\n",
    "### 字典的限制\n",
    "1. **键必须是不可变类型**：字典中的键必须是不可变的（如字符串、数字、元组），不能是列表、集合等可变类型。\n",
    "2. **无序性**：虽然 Python 3.7 及以后版本的字典保持插入顺序，但它们并不支持索引访问。\n",
    "\n",
    "### 总结\n",
    "\n",
    "- **字典** 是一种存储 **键-值对** 的数据结构，提供了快速的查找和修改操作。\n",
    "- **键** 是唯一的，**值** 可以是任何数据类型。\n",
    "- 字典支持各种常见的操作，如添加、修改、删除和遍历键值对，是 Python 中处理映射关系的核心工具。"
   ]
  },
  {
   "cell_type": "markdown",
   "metadata": {},
   "source": [
    "# 有关函数的参数的解释 _rerzer"
   ]
  },
  {
   "cell_type": "markdown",
   "metadata": {},
   "source": [
    "* 位置参数 --positional argument\n",
    "* 关键字参数 --keyword argument\n",
    "* 必要参数 -required arguments\n",
    "* 非必要参数 -optinal arguments\n",
    "* 可变参数 *args，**kwargs \n",
    "* *args称之为Non-keyword Variable Arguments，无关键字参数；**kwargs称之为keyword Variable Arguments，有关键字参数"
   ]
  },
  {
   "cell_type": "markdown",
   "metadata": {},
   "source": [
    "## 必要参数和非必要参数 位置参数和关键字参数"
   ]
  },
  {
   "cell_type": "markdown",
   "metadata": {},
   "source": [
    "### Tips"
   ]
  },
  {
   "cell_type": "markdown",
   "metadata": {},
   "source": [
    "**必要参数和非必要参数 与 位置参数和关键字参数 有着较大的相似，将举例说明其特点**  \n",
    "必要参数：必须传递，函数定义时不提供默认值。  \n",
    "非必要参数：可以不传递，函数定义时提供默认值。如果调用时传递值，则覆盖默认值   \n",
    "在定义函数时，必要参数必须先定义，非必要参数放在后面。\n",
    "\n",
    "位置参数是按顺序传递的，而关键字参数是明确指定参数名称的。  \n",
    "positional arguemnt:  \n",
    "参数传递的顺序非常重要，必须与函数定义中的顺序一致。  \n",
    "位置参数的值没有显式指定参数名称，依赖于位置   \n",
    "keyword argument:  \n",
    "参数传递时与顺序无关，可以任意顺序传递参数。  \n",
    "可以提高代码的可读性，尤其是当函数有很多参数时。  \n",
    "如果某个参数有默认值，关键字参数可以省略，而使用默认值  \n",
    "\n",
    "在 Python 中，位置参数必须位于关键字参数之前  \n",
    "关于“positional argument follows keyword argument”即出现了将位置参数放在关键字参数之后，则会出现这样的报错  \n"
   ]
  },
  {
   "cell_type": "markdown",
   "metadata": {},
   "source": [
    "### 位置参数和关键字参数"
   ]
  },
  {
   "cell_type": "markdown",
   "metadata": {},
   "source": [
    "* 例一：  \n",
    "下列例子中\"a=1\"就是关键字参数，\"2\"和\"3\"是位置参数  \n",
    "def example_function(a, b, c):  \n",
    "    print(a, b, c)  \n",
    "example_function(a=9,2,3)  \n",
    "\n",
    "上述的example_function调用的时候，输入的参数，格式是错误的，因为关键字参数必须在位置参数后  \n",
    "\n",
    "输入==>输出  \n",
    "example_function（7,5,4）==>(7,5,4) --位置参数，输入的参数必须与函数定义时参数的顺序一样  \n",
    "example_function（c=2,b=5,a=7）==>(7,5,2) --关键字参数，输入的参数需要以参数名和参数值进行输入，由于指定了各个参数的具体值，则不要求参数顺序  \n",
    "example_function（9,c=4,b=5） --混合使用，由于关键字参数必须放在位置参数后，由于位置参数是按照位置传递数值的，即的第一个值则就是函数定义时的第一个参数值，也就是说位于关键字参数之前的个数为n的位置参数已经把定义函数时设定的前n个参数进行了赋值了，后续的关键字参数就不能再次传递已经传递过参数的位置参数，否则会出现“该参数接收了多个值”的报错  \n",
    "\n",
    "**这点可以参考sql中的insert的使用方法,当输入参数的顺序是按表中的属性名（字段或列名）输入的则不需要声明（columnname1,columnname2,...），直接输入values（value1，value2,... ）的数据;反之，当输入的参数不是按属性名顺序则需要输入（columnname7,columnname3,...），且保证values的参数得到位置与column的位置保持一致（value7，value3，...）,通俗点即名字（column）下面存名字（value），年龄（column）下面存年龄（value）**  "
   ]
  },
  {
   "cell_type": "code",
   "execution_count": 6,
   "metadata": {},
   "outputs": [
    {
     "ename": "SyntaxError",
     "evalue": "positional argument follows keyword argument (2014050137.py, line 4)",
     "output_type": "error",
     "traceback": [
      "\u001b[1;36m  Cell \u001b[1;32mIn[6], line 4\u001b[1;36m\u001b[0m\n\u001b[1;33m    example_function(a=9,2,3)\u001b[0m\n\u001b[1;37m                            ^\u001b[0m\n\u001b[1;31mSyntaxError\u001b[0m\u001b[1;31m:\u001b[0m positional argument follows keyword argument\n"
     ]
    }
   ],
   "source": [
    "#位置参数应该在位置参数之前\n",
    "def example_function(a, b, c):  \n",
    "    print(a, b, c)  \n",
    "example_function(a=9,2,3)  "
   ]
  },
  {
   "cell_type": "code",
   "execution_count": 2,
   "metadata": {},
   "outputs": [
    {
     "ename": "TypeError",
     "evalue": "example_function() got multiple values for argument 'a'",
     "output_type": "error",
     "traceback": [
      "\u001b[1;31m---------------------------------------------------------------------------\u001b[0m",
      "\u001b[1;31mTypeError\u001b[0m                                 Traceback (most recent call last)",
      "Cell \u001b[1;32mIn[2], line 3\u001b[0m\n\u001b[0;32m      1\u001b[0m \u001b[38;5;28;01mdef\u001b[39;00m \u001b[38;5;21mexample_function\u001b[39m(a, b, c):  \n\u001b[0;32m      2\u001b[0m     \u001b[38;5;28mprint\u001b[39m(a, b, c)  \n\u001b[1;32m----> 3\u001b[0m example_function(\u001b[38;5;241m9\u001b[39m,\u001b[38;5;241m2\u001b[39m,a\u001b[38;5;241m=\u001b[39m\u001b[38;5;241m1\u001b[39m)\n",
      "\u001b[1;31mTypeError\u001b[0m: example_function() got multiple values for argument 'a'"
     ]
    }
   ],
   "source": [
    "#参数接收到多个值报错\n",
    "def example_function(a, b, c):  \n",
    "    print(a, b, c)  \n",
    "example_function(9,2,a=1)  "
   ]
  },
  {
   "cell_type": "markdown",
   "metadata": {},
   "source": [
    "### 必要参数和非必要参数"
   ]
  },
  {
   "cell_type": "markdown",
   "metadata": {},
   "source": [
    "* 例二：  \n",
    "下列例子中 a和b是必要参数（required arguments），c和d是非必要参数（optional arguments）  \n",
    "def example_function(a, b, c=99,d=77):  \n",
    "    print(a, b, c,d)  \n",
    "example_function(9,2,3)  \n",
    "\n",
    "必要参数是必须给出的值，非必要参数是已经预设了一个值，在输入的时候必要参数是必须给定值的，非必要参数可选择性输入值（optional arguments）  \n",
    "其输入值可以是位置参数值，也可以是关键字参数，还可以是混合类型，其规则也相同  "
   ]
  },
  {
   "cell_type": "code",
   "execution_count": 9,
   "metadata": {},
   "outputs": [
    {
     "name": "stdout",
     "output_type": "stream",
     "text": [
      "2 11 99 3\n"
     ]
    }
   ],
   "source": [
    "#位置参数和非必要参数的体现\n",
    "def example_function(a, b, c=99,d=77):  \n",
    "    print(a, b, c,d)  \n",
    "example_function(b=11,a=2,d=3)  "
   ]
  },
  {
   "cell_type": "code",
   "execution_count": 10,
   "metadata": {},
   "outputs": [
    {
     "ename": "TypeError",
     "evalue": "example_function() missing 1 required positional argument: 'b'",
     "output_type": "error",
     "traceback": [
      "\u001b[1;31m---------------------------------------------------------------------------\u001b[0m",
      "\u001b[1;31mTypeError\u001b[0m                                 Traceback (most recent call last)",
      "Cell \u001b[1;32mIn[10], line 4\u001b[0m\n\u001b[0;32m      2\u001b[0m \u001b[38;5;28;01mdef\u001b[39;00m \u001b[38;5;21mexample_function\u001b[39m(a, b, c\u001b[38;5;241m=\u001b[39m\u001b[38;5;241m99\u001b[39m,d\u001b[38;5;241m=\u001b[39m\u001b[38;5;241m77\u001b[39m):  \n\u001b[0;32m      3\u001b[0m     \u001b[38;5;28mprint\u001b[39m(a, b, c,d)  \n\u001b[1;32m----> 4\u001b[0m example_function(\u001b[38;5;241m11\u001b[39m,d\u001b[38;5;241m=\u001b[39m\u001b[38;5;241m3\u001b[39m)\n",
      "\u001b[1;31mTypeError\u001b[0m: example_function() missing 1 required positional argument: 'b'"
     ]
    }
   ],
   "source": [
    "#必要参数缺少报错\n",
    "def example_function(a, b, c=99,d=77):  \n",
    "    print(a, b, c,d)  \n",
    "example_function(11,d=3)  "
   ]
  },
  {
   "cell_type": "markdown",
   "metadata": {},
   "source": [
    "## 可变参数"
   ]
  },
  {
   "cell_type": "markdown",
   "metadata": {},
   "source": [
    "使用 *args，函数可以接受任意数量的 位置参数，这些参数会作为一个元组传递给函数  \n",
    "使用 **kwargs，函数可以接受任意数量的 关键字参数，这些参数会作为一个字典传递给函数  \n",
    "可在输出的时候将可变位置参数前加上一个*号，则会返回*args内的所有值，相当于遍历输出；可变关键字参数也是一样的在可变关键词参数前加一个*，相当于对字典进行遍历输出，字典遍历输出的值即是各个键值对的键  "
   ]
  },
  {
   "cell_type": "code",
   "execution_count": 26,
   "metadata": {},
   "outputs": [
    {
     "name": "stdout",
     "output_type": "stream",
     "text": [
      "9 2 3 (4, 5, 8, 13) {'name': 'rerzer', 'age': 12}\n"
     ]
    }
   ],
   "source": [
    "# 原滋原味\n",
    "def example_function(a, b, c,*d,**f):\n",
    "    print(a, b, c,d,f)\n",
    "\n",
    "example_function( 9,2,3,4,5,8,13,name='rerzer',age=12)"
   ]
  },
  {
   "cell_type": "code",
   "execution_count": 34,
   "metadata": {},
   "outputs": [
    {
     "name": "stdout",
     "output_type": "stream",
     "text": [
      "9 2 3 4 5 8 13 {'name': 'rerzer', 'age': 12}\n"
     ]
    }
   ],
   "source": [
    "#输出时，在可变位置参数d前加上*号\n",
    "def example_function(a, b, c,*d,**f):\n",
    "    print(a, b, c,*d,f)\n",
    "\n",
    "example_function( 9,2,3,4,5,8,13,name='rerzer',age=12)"
   ]
  },
  {
   "cell_type": "code",
   "execution_count": 36,
   "metadata": {},
   "outputs": [
    {
     "name": "stdout",
     "output_type": "stream",
     "text": [
      "a\n",
      "b\n",
      "c\n",
      "0 1 2 3 4 5 6 7 8 9\n"
     ]
    },
    {
     "ename": "TypeError",
     "evalue": "'a' is an invalid keyword argument for print()",
     "output_type": "error",
     "traceback": [
      "\u001b[1;31m---------------------------------------------------------------------------\u001b[0m",
      "\u001b[1;31mTypeError\u001b[0m                                 Traceback (most recent call last)",
      "Cell \u001b[1;32mIn[36], line 7\u001b[0m\n\u001b[0;32m      5\u001b[0m \u001b[38;5;28mprint\u001b[39m(\u001b[38;5;241m*\u001b[39ma)\n\u001b[0;32m      6\u001b[0m my_dict \u001b[38;5;241m=\u001b[39m {\u001b[38;5;124m'\u001b[39m\u001b[38;5;124ma\u001b[39m\u001b[38;5;124m'\u001b[39m: \u001b[38;5;241m1\u001b[39m, \u001b[38;5;124m'\u001b[39m\u001b[38;5;124mb\u001b[39m\u001b[38;5;124m'\u001b[39m: \u001b[38;5;241m2\u001b[39m, \u001b[38;5;124m'\u001b[39m\u001b[38;5;124mc\u001b[39m\u001b[38;5;124m'\u001b[39m: \u001b[38;5;241m3\u001b[39m}\n\u001b[1;32m----> 7\u001b[0m \u001b[38;5;28mprint\u001b[39m(\u001b[38;5;241m*\u001b[39m\u001b[38;5;241m*\u001b[39mmy_dict)\n",
      "\u001b[1;31mTypeError\u001b[0m: 'a' is an invalid keyword argument for print()"
     ]
    }
   ],
   "source": [
    "my_dict = {'a': 1, 'b': 2, 'c': 3}\n",
    "for i in my_dict:\n",
    "    print(i)\n",
    "a=list(range(10))\n",
    "print(*a)\n",
    "my_dict = {'a': 1, 'b': 2, 'c': 3}\n",
    "print(**my_dict)"
   ]
  },
  {
   "cell_type": "markdown",
   "metadata": {},
   "source": [
    "## gpt"
   ]
  },
  {
   "cell_type": "markdown",
   "metadata": {},
   "source": [
    "在 Python 中，函数参数有两种主要的传递方式：**位置参数**（positional argument）和 **关键字参数**（keyword argument）。它们的区别在于传递参数的方式以及调用时的灵活性。我们来详细介绍一下这两种参数及它们的用法。\n",
    "\n",
    "### 1. **位置参数（Positional Arguments）**\n",
    "\n",
    "位置参数是最常见的参数类型，它根据参数在函数调用中的位置来传递值。调用函数时，按照定义时的顺序把参数的值传递给相应的位置。\n",
    "\n",
    "#### 特点：\n",
    "- 参数传递的顺序非常重要，必须与函数定义中的顺序一致。\n",
    "- 位置参数的值没有显式指定参数名称，依赖于位置。\n",
    "\n",
    "#### 例子：\n",
    "```python\n",
    "def describe_person(name, age, city):\n",
    "    print(f\"{name} is {age} years old and lives in {city}.\")\n",
    "\n",
    "# 使用位置参数调用\n",
    "describe_person(\"Alice\", 30, \"New York\")\n",
    "```\n",
    "\n",
    "#### 输出：\n",
    "```\n",
    "Alice is 30 years old and lives in New York.\n",
    "```\n",
    "\n",
    "在这个例子中，`\"Alice\"` 被传递给 `name`，`30` 被传递给 `age`，`\"New York\"` 被传递给 `city`，因为它们的顺序与函数定义中的参数顺序一致。\n",
    "\n",
    "### 2. **关键字参数（Keyword Arguments）**\n",
    "\n",
    "关键字参数允许在函数调用时明确指定参数名称，而不是依赖参数的位置。通过给定参数名，可以不按照顺序传递参数的值。\n",
    "\n",
    "#### 特点：\n",
    "- 参数传递时与顺序无关，可以任意顺序传递参数。\n",
    "- 可以提高代码的可读性，尤其是当函数有很多参数时。\n",
    "- 如果某个参数有默认值，关键字参数可以省略，而使用默认值。\n",
    "\n",
    "#### 例子：\n",
    "```python\n",
    "def describe_person(name, age, city):\n",
    "    print(f\"{name} is {age} years old and lives in {city}.\")\n",
    "\n",
    "# 使用关键字参数调用\n",
    "describe_person(age=30, city=\"New York\", name=\"Alice\")\n",
    "```\n",
    "\n",
    "#### 输出：\n",
    "```\n",
    "Alice is 30 years old and lives in New York.\n",
    "```\n",
    "\n",
    "在这个例子中，尽管参数顺序发生了变化，关键字参数确保每个值都传递给了正确的参数名。\n",
    "\n",
    "### 3. **混合使用位置参数和关键字参数**\n",
    "\n",
    "位置参数和关键字参数可以混合使用，但要遵循以下规则：\n",
    "- **位置参数必须放在关键字参数之前**。如果在传递参数时，位置参数放在关键字参数之后，Python 会抛出 `SyntaxError`。\n",
    "\n",
    "#### 例子：\n",
    "```python\n",
    "def describe_person(name, age, city):\n",
    "    print(f\"{name} is {age} years old and lives in {city}.\")\n",
    "\n",
    "# 混合使用位置参数和关键字参数\n",
    "describe_person(\"Alice\", age=30, city=\"New York\")\n",
    "```\n",
    "\n",
    "#### 输出：\n",
    "```\n",
    "Alice is 30 years old and lives in New York.\n",
    "```\n",
    "\n",
    "但是，以下调用会导致错误：\n",
    "```python\n",
    "describe_person(name=\"Alice\", 30, \"New York\")  # 错误示例\n",
    "```\n",
    "这个调用会抛出错误 `SyntaxError: positional argument follows keyword argument`，因为位置参数 `30` 和 `\"New York\"` 在关键字参数 `name=\"Alice\"` 之后。\n",
    "\n",
    "### 4. **默认参数与关键字参数**\n",
    "\n",
    "在定义函数时，可以为某些参数提供默认值。这些带有默认值的参数通常用作关键字参数，因为调用函数时可以选择性地省略它们。\n",
    "\n",
    "#### 例子：\n",
    "```python\n",
    "def describe_person(name, age=25, city=\"Unknown\"):\n",
    "    print(f\"{name} is {age} years old and lives in {city}.\")\n",
    "\n",
    "# 可以只传递位置参数\n",
    "describe_person(\"Alice\")\n",
    "\n",
    "# 可以使用关键字参数覆盖默认值\n",
    "describe_person(\"Bob\", city=\"London\")\n",
    "```\n",
    "\n",
    "#### 输出：\n",
    "```\n",
    "Alice is 25 years old and lives in Unknown.\n",
    "Bob is 25 years old and lives in London.\n",
    "```\n",
    "\n",
    "在这个例子中，`age` 和 `city` 都有默认值。如果不传递这些参数，函数会使用默认值；如果传递了参数，则会覆盖默认值。\n",
    "\n",
    "### 5. **可变数量的位置参数和关键字参数**\n",
    "\n",
    "Python 允许定义可以接受任意数量参数的函数，分别使用 `*args` 和 `**kwargs`。\n",
    "\n",
    "#### 可变数量的位置参数（`*args`）：\n",
    "\n",
    "使用 `*args`，函数可以接受任意数量的 **位置参数**，这些参数会作为一个元组传递给函数。\n",
    "\n",
    "```python\n",
    "def print_numbers(*args):\n",
    "    for num in args:\n",
    "        print(num)\n",
    "\n",
    "print_numbers(1, 2, 3, 4, 5)\n",
    "```\n",
    "\n",
    "#### 输出：\n",
    "```\n",
    "1\n",
    "2\n",
    "3\n",
    "4\n",
    "5\n",
    "```\n",
    "\n",
    "#### 可变数量的关键字参数（`**kwargs`）：\n",
    "\n",
    "使用 `**kwargs`，函数可以接受任意数量的 **关键字参数**，这些参数会作为一个字典传递给函数。\n",
    "\n",
    "```python\n",
    "def print_info(**kwargs):\n",
    "    for key, value in kwargs.items():\n",
    "        print(f\"{key}: {value}\")\n",
    "\n",
    "print_info(name=\"Alice\", age=30, city=\"New York\")\n",
    "```\n",
    "\n",
    "#### 输出：\n",
    "```\n",
    "name: Alice\n",
    "age: 30\n",
    "city: New York\n",
    "```\n",
    "\n",
    "### 总结：\n",
    "- **位置参数（Positional Arguments）**：按顺序传递值，顺序很重要。\n",
    "- **关键字参数（Keyword Arguments）**：通过指定参数名传递值，顺序无关紧要。\n",
    "- **混合使用**：位置参数必须放在关键字参数之前。\n",
    "- **默认参数**：函数可以有带默认值的参数，未传递时使用默认值。\n",
    "- **可变数量参数**：`*args` 用于接受任意数量的位置参数，`**kwargs` 用于接受任意数量的关键字参数。\n",
    "\n",
    "理解这两类参数及它们的用法，可以帮助你编写更灵活和可读性更高的代码。"
   ]
  },
  {
   "cell_type": "code",
   "execution_count": null,
   "metadata": {},
   "outputs": [],
   "source": []
  }
 ],
 "metadata": {
  "kernelspec": {
   "display_name": "duplicate_base",
   "language": "python",
   "name": "python3"
  },
  "language_info": {
   "codemirror_mode": {
    "name": "ipython",
    "version": 3
   },
   "file_extension": ".py",
   "mimetype": "text/x-python",
   "name": "python",
   "nbconvert_exporter": "python",
   "pygments_lexer": "ipython3",
   "version": "3.12.4"
  }
 },
 "nbformat": 4,
 "nbformat_minor": 2
}
