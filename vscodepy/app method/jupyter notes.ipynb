{
 "cells": [
  {
   "cell_type": "markdown",
   "metadata": {},
   "source": [
    "# jupyter notes"
   ]
  },
  {
   "cell_type": "markdown",
   "metadata": {},
   "source": [
    "# tips\n",
    "plain text -纯文本  \n",
    "run all 是指将所有代码全部执行一遍，前面带有“*”的cell（单元格）表示还未execute（执行）  \n",
    "cell有两种格式一种是蓝色（边框）模式 叫做命令模式可执行x和z（删除cell和恢复cell命令），另一种是绿色模式 叫做编辑模式，在编辑模式按esc可进入命令模式，在命令模式下案enter进入 编辑模式  \n",
    "在命令模式下按M键可将代码格式转变为markdown模式，Y代码模式  \n",
    "点两下空格就是换行  \n",
    "cell又称单元格，执行、运行、渲染可理解成一个意思  \n",
    "*斜体* **加粗**\n",
    "\n",
    "%魔法函数 可以进行运行执行多项命令，或者matplotlib中的图像展示，等功能  "
   ]
  },
  {
   "cell_type": "markdown",
   "metadata": {},
   "source": [
    "# 有关markdown  "
   ]
  },
  {
   "cell_type": "markdown",
   "metadata": {},
   "source": [
    "关于标题，有几个#就是啊几级标题，生成标题的语法是#+空格+内容；还有一种方法是按下数字（如：1,2,3）就可以快速创建对应的标题等级（在命令模式下按  \n",
    "# 我是一号标题  \n",
    "## 我是二号标题  \n",
    ">我是引用我这行开头有个灰色竖杠  \n",
    "\n",
    "[我是外部链接，点我上B站](https://www.bilibili.com/)  \n",
    "![我是图片](同上该处为图片地址)  \n",
    "在markdown中回车换行是点两下空格+enter  \n",
    "缩进 需要进行一次嵌套  \n",
    "其格式是这样的：先enter空出一行，在按tap+内容一，两次空格+换行，新的一行再次tap，输入内容二，内容二前就可以缩进了；你也可以理解为内容二是内容一的子内容，就相当于“去卖西瓜有以下两种方法：1、去超市 2、网购 3、去集市  \n",
    "\n",
    "    去买西瓜有以下几种途径：  \n",
    "        1、去超市  \n",
    "        2、去集市  \n",
    "        3、去网购\n",
    "\n",
    "第二种缩进的方法就是ctrl+】 -缩进  \n",
    "ctrl+【 -取消缩进\n",
    "在jupyter interface中tap键能够直接缩进  "
   ]
  },
  {
   "cell_type": "markdown",
   "metadata": {},
   "source": [
    "## 有关公式编辑"
   ]
  },
  {
   "cell_type": "markdown",
   "metadata": {},
   "source": [
    "行内公式$x^2$是在两个美元符号中间编写latex数学公式，公式左右各一个;  \n",
    "外显公式是在公式左右各两个美元符号，还可以用左两个反斜杠+左中括号+latex公式+两个反斜杠+右中括号；  \n",
    "$$x_i$$  \n",
    "\\\\[x_i\\\\]  "
   ]
  },
  {
   "cell_type": "markdown",
   "metadata": {},
   "source": [
    "&（与）在latex中还有对齐的功能（需搭配\\begin{align} 命令使用），如（在markdown中记得另起一个cell，才能更好显示）：  "
   ]
  },
  {
   "cell_type": "markdown",
   "metadata": {},
   "source": [
    "$$\n",
    "\\begin{align}\n",
    "I&=\\frac{9}{6} + 1\\\\\n",
    "&=\\frac{3}{2}+\\frac{2}{2}\\\\\n",
    "&=\\frac{5}{2}\n",
    "\\end{align}\n",
    "$$"
   ]
  },
  {
   "cell_type": "markdown",
   "metadata": {},
   "source": [
    "$$\n",
    "\\begin{align}\n",
    "\\sqrt{37} & = \\sqrt{\\frac{73^2-1}{12^2}}\\\\\n",
    " & = \\sqrt{\\frac{73^2}{12^2}\\cdot\\frac{73^2-1}{73^2}} \\\\ \n",
    " & = \\sqrt{\\frac{73^2}{12^2}}\\sqrt{\\frac{73^2-1}{73^2}} \\\\\n",
    " & = \\frac{73}{12}\\sqrt{1 - \\frac{1}{73^2}} \\\\ \n",
    " & \\approx \\frac{73}{12}\\left(1 - \\frac{1}{2\\cdot73^2}\\right)\n",
    "\\end{align}\n",
    "$$"
   ]
  },
  {
   "cell_type": "markdown",
   "metadata": {},
   "source": [
    "$$\n",
    "\\begin{align}\n",
    "\\sqrt{37} & = \\sqrt{\\frac{73^2-1}{12^2}}  \\hspace{100cm}\\\\\n",
    " & = \\sqrt{\\frac{73^2}{12^2}\\cdot\\frac{73^2-1}{73^2}} \\\\ \n",
    " & = \\sqrt{\\frac{73^2}{12^2}}\\sqrt{\\frac{73^2-1}{73^2}} \\\\\n",
    " & = \\frac{73}{12}\\sqrt{1 - \\frac{1}{73^2}} \\\\ \n",
    " & \\approx \\frac{73}{12}\\left(1 - \\frac{1}{2\\cdot73^2}\\right)\n",
    "\\end{align}\n",
    "$$\n",
    "**其中\\hspace{100cm}让其未居中**  \n",
    "作者：上山老人  \n",
    "链接：https://www.zhihu.com/question/60028634/answer/1309109295  \n",
    "来源：知乎  \n",
    "著作权归作者所有。商业转载请联系作者获得授权，非商业转载请注明出处。  0cm}让其未居中"
   ]
  },
  {
   "cell_type": "markdown",
   "metadata": {},
   "source": [
    "## 有关代码的编辑 "
   ]
  },
  {
   "cell_type": "markdown",
   "metadata": {},
   "source": [
    "\\```python 其格式是在markdown格式下用英文下三个`+编程语言，如```c;```java;"
   ]
  },
  {
   "cell_type": "markdown",
   "metadata": {},
   "source": [
    "```python\n",
    "import numpy as np"
   ]
  },
  {
   "cell_type": "markdown",
   "metadata": {},
   "source": [
    "## shortcut keys -快捷键  \n",
    "dd -删除  \n",
    "z -撤回删除  \n",
    "x -剪切  \n",
    "c -复制  \n",
    "v -粘贴  \n",
    "shift+v -复制在当前cell之前  \n",
    "a -above，即在当前cell的上方创建一个cell  \n",
    "ctrl+all -全选  \n",
    "b -below，即在当前cell下方创建一个cell  \n",
    "l -按L显示多行代码行数，作用于代码cell  \n",
    "f -find&replace，查找替换  \n",
    "m -markdown模式  \n",
    "r -进入row nbconvert模式，此模式方便显示代码而不会被运行\n",
    "y -代码模式  \n",
    "r -清楚代码块格式  \n",
    "s -save，保存并检查\n",
    "ctrl+s -同上  \n",
    "ctrl+enter -运行当前cell\n",
    "alt+enter -运行当前cell并在当前cell下方生成new cell\n",
    "shift+enter -运行当前代码块，并跳到下一个代码块  \n",
    "ctrl+】 -缩进  \n",
    "ctrl+【 -取消缩进  \n",
    "tap -好像可以直接缩进了  \n",
    "shift+k -选中当前cell和上一个cell  \n",
    "shift+j -选中当前cell和下一个cell  \n",
    "shift+m -merge合并选中cell  \n",
    "ctrl+backspace -合并当前cell与上一个cell  \n",
    "ctrl+shift+m -合并当前cell和下一个cell\n"
   ]
  },
  {
   "cell_type": "raw",
   "metadata": {},
   "source": [
    "命令行模式：\r\n",
    "A: 在上面插入代码块\r\n",
    "B: 在下面插入代码块\r\n",
    "X: 剪切选择的代码块\r\n",
    "C: 复制选择的代码块\r\n",
    "Shift-V: 粘贴到上面\r\n",
    "V: 粘贴到下面\r\n",
    "Z: 撤销删除\r\n",
    "D,D: 删除选中单元 按两下\r\n",
    "Shift-L: 在所有单元格中切换行号，并保持设置\r\n",
    "Shift-空格: 向上滚动\r\n",
    "空格: 向下滚动\r\n",
    "Enter: 进入编辑模式\r\n",
    "Y: 把代码块变成代码\r\n",
    "M: 把代码块变成标签 markdown\r\n",
    "上: 选择上面的代码块\r\n",
    "下: 选择下面的代码块\r\n",
    "Shift-Enter: 运行代码块, 选择下面的代码块\r\n",
    "Ctrl-Enter: 运行选中的代码块\r\n",
    "Alt-Enter: 运行代码块并且插入下面\n",
    "\n",
    "编辑模式：\r\n",
    "Ctrl-D: 删除整行\r\n",
    "Esc: 进入命令行模式\r\n",
    "Ctrl-上: 跳到单元格起始处\r\n",
    "Ctrl-下: 跳到单元格最后\r\n",
    "Ctrl-左: 跳到单词左边\r\n",
    "Ctrl-右: 跳到单词右边\r\n",
    "Ctrl-]: 缩进 将代码移动一个tab键\r\n",
    "Ctrl-[: 取消缩进\r\n",
    "Tab: 代码完成或缩进\r\n",
    "Shift-Tab: 工具提示\r\n",
    "Ctrl-/: 评论 注释\r\n",
    "Ctrl-D: 删除整行\r\n",
    "Ctrl-U: 撤销选择"
   ]
  },
  {
   "cell_type": "code",
   "execution_count": 99,
   "metadata": {},
   "outputs": [
    {
     "name": "stdout",
     "output_type": "stream",
     "text": [
      "1\n"
     ]
    }
   ],
   "source": [
    "a=1\n",
    "b=1\n",
    "c=1\n",
    "print(a)"
   ]
  }
 ],
 "metadata": {
  "kernelspec": {
   "display_name": "duplicate_base",
   "language": "python",
   "name": "duplicate_base"
  },
  "language_info": {
   "codemirror_mode": {
    "name": "ipython",
    "version": 3
   },
   "file_extension": ".py",
   "mimetype": "text/x-python",
   "name": "python",
   "nbconvert_exporter": "python",
   "pygments_lexer": "ipython3",
   "version": "3.12.4"
  }
 },
 "nbformat": 4,
 "nbformat_minor": 4
}
