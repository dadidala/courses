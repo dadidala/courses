{
 "cells": [
  {
   "cell_type": "markdown",
   "metadata": {},
   "source": [
    "# Latex notes\n"
   ]
  },
  {
   "cell_type": "markdown",
   "metadata": {},
   "source": [
    "[参考于这个up主](https://www.bilibili.com/video/BV1gv421k7FF?p=1&vd_source=91832e401a003ac30058f6ec6cc665d8)"
   ]
  },
  {
   "cell_type": "markdown",
   "metadata": {
    "vscode": {
     "languageId": "plaintext"
    }
   },
   "source": [
    "## tips"
   ]
  },
  {
   "cell_type": "markdown",
   "metadata": {
    "jp-MarkdownHeadingCollapsed": true,
    "vscode": {
     "languageId": "plaintext"
    }
   },
   "source": [
    "% -是指latex里的注释，其后面的内容不会被执行  \n",
    "\n",
    "\\还可以当成转义字符使用，例如下横线'_'无法正常打出，可通过'\\_'打出  \n",
    "\n",
    "\\+一串英文 是指latex中的一个指令，也称为 宏  ，大括号里面是指令的参数  \n",
    "\n",
    "如：\\documentclass{article}%设置文章类型，article与ctexart，前者参数是写英文内容的文章，后者允许写中文，前者要是有中文会被警告或则报错，而且中文内容不会被编译；后者还需要搭配编译器（选择xelatex）\n",
    "\n",
    "latex除了指令外还有 环境 这一概念  \n",
    "\n",
    "如\\\\begin{}  中间内容   \\\\end{}之间的内容就被成为环境  \n",
    "\n",
    "latex不会编译空格，空格有专门的代码 -空格层级由小到大  1\\,2\\;3\\ 4\\quad5\\qquad6\\hspace{5cm}7  \n",
    "\n",
    "表格转代码网站 [create latex table online](https://www.tablesgenerator.com)  \n",
    "公式编辑网站[hostmath](https://www.hostmath.com/)\n",
    "\n",
    "有报错看看是不是缺少必要的宏包\n",
    "\n",
    "在图与表的参数中\\centering 和 \\caption 跟图的代码的位置有关，若\\caption 在图（或者表）代码之前，则图名（表名）在对应的图（表）的上方，但是\\centering 一般放在图（表）的上方，因为代码的执行有先后顺序，先执行居中命令在根据个人意愿生成图名和图的位置  \n",
    "\n",
    "数学公式分为行内公式与外显公式  \n",
    "\n",
    "\\\\ -强制换行，\\\\[] 参数可以是pt等  \n",
    "\n",
    "关于文献的引用的时候，似乎要保证在整个latex代码运行不会出现报错（error）才不会出现\"[?]\"这样的情况，当出现警告（warning）时不会产生影响；还有就是需要选择\\bibliographystyle{plain}（参数可以一般是plain），然后由\\bibliography{bib_filename}(记住只需要bib文件的文件名就行了，不需要加后缀.bib)  \n",
    "\n",
    "&（与）在latex中还有对齐的功能（需搭配\\begin{align} 命令使用），如（记得另起一个cell或者在公式前也就是$$前空一格）：  \n",
    "\n",
    "$$\n",
    "\\begin{align}\n",
    "I&=\\frac{9}{6} + 1\\\\\n",
    "&=\\frac{3}{2}+\\frac{2}{2}\\\\\n",
    "&=\\frac{5}{2}\n",
    "\\end{align}\n",
    "$$"
   ]
  },
  {
   "cell_type": "markdown",
   "metadata": {},
   "source": [
    "$$\n",
    "\\begin{align}\n",
    "I&=\\frac{9}{6} + 1\\\\\n",
    "&=\\frac{3}{2}+\\frac{2}{2}\\\\\n",
    "&=\\frac{5}{2}\n",
    "\\end{align}\n",
    "$$"
   ]
  },
  {
   "cell_type": "markdown",
   "metadata": {},
   "source": [
    "$$\n",
    "\\begin{align}\n",
    "\\sqrt{37} & = \\sqrt{\\frac{73^2-1}{12^2}}\\\\\n",
    " & = \\sqrt{\\frac{73^2}{12^2}\\cdot\\frac{73^2-1}{73^2}} \\\\ \n",
    " & = \\sqrt{\\frac{73^2}{12^2}}\\sqrt{\\frac{73^2-1}{73^2}} \\\\\n",
    " & = \\frac{73}{12}\\sqrt{1 - \\frac{1}{73^2}} \\\\ \n",
    " & \\approx \\frac{73}{12}\\left(1 - \\frac{1}{2\\cdot73^2}\\right)\n",
    "\\end{align}\n",
    "$$"
   ]
  },
  {
   "cell_type": "markdown",
   "metadata": {},
   "source": [
    "$$\n",
    "\\begin{align}\n",
    "\\sqrt{37} & = \\sqrt{\\frac{73^2-1}{12^2}}  \\hspace{100cm}\\\\\n",
    " & = \\sqrt{\\frac{73^2}{12^2}\\cdot\\frac{73^2-1}{73^2}} \\\\ \n",
    " & = \\sqrt{\\frac{73^2}{12^2}}\\sqrt{\\frac{73^2-1}{73^2}} \\\\\n",
    " & = \\frac{73}{12}\\sqrt{1 - \\frac{1}{73^2}} \\\\ \n",
    " & \\approx \\frac{73}{12}\\left(1 - \\frac{1}{2\\cdot73^2}\\right)\n",
    "\\end{align}\n",
    "$$\n",
    "`其中\\hspace{100cm}增加右方空格让其未居中`  \n",
    "作者：上山老人  \n",
    "链接：https://www.zhihu.com/question/60028634/answer/1309109295  \n",
    "来源：知乎  \n",
    "著作权归作者所有。商业转载请联系作者获得授权，非商业转载请注明出处。  "
   ]
  },
  {
   "cell_type": "markdown",
   "metadata": {
    "vscode": {
     "languageId": "plaintext"
    }
   },
   "source": [
    "# 分为三个区："
   ]
  },
  {
   "cell_type": "markdown",
   "metadata": {
    "vscode": {
     "languageId": "plaintext"
    }
   },
   "source": [
    "# 设置文章类型  "
   ]
  },
  {
   "cell_type": "markdown",
   "metadata": {
    "jp-MarkdownHeadingCollapsed": true,
    "vscode": {
     "languageId": "plaintext"
    }
   },
   "source": [
    "\\documentclass{article}%设置文章类型"
   ]
  },
  {
   "cell_type": "markdown",
   "metadata": {
    "vscode": {
     "languageId": "plaintext"
    }
   },
   "source": [
    "# 导言区 -对latex生成的pdf文件上的设置"
   ]
  },
  {
   "cell_type": "markdown",
   "metadata": {
    "vscode": {
     "languageId": "plaintext"
    }
   },
   "source": [
    "## 插入宏包  "
   ]
  },
  {
   "cell_type": "markdown",
   "metadata": {
    "vscode": {
     "languageId": "plaintext"
    }
   },
   "source": [
    "\\usepackage{}%插入宏包的命令，其大括号内填写对应的名称  \n",
    "\\usepackage{graphicx}%required for inserting imags  \n",
    "\\usepackage{geometry}%设置页边距  \n",
    "\\usepackage{lipsum}%生成虚拟文本，在正文区执行，其代码是\\lipsum[1-3]%代表随机生成一到三段的文本，重新编译看结果  \n",
    "\\usepackage{fancyhdr}%自定义页眉页脚  \n",
    "\\usepackage{Lastpage}%传递最后一页代码的参数命令\n",
    "\\usepackage{booktabs} %三线表的需要的包，顶端线，中线，底部线 -\\toprule \\midrule \\bottomrule\n",
    "%数学宏包\n",
    "\\usepackage{amsmath,amsfonts,amsthm} %常用的数学公式；数学字体；提供一种数学证明环境  \n",
    "\\usepackage{bm} %可以对数学字体进行加粗，与tx文本加粗的指令有区别，专门用来加粗数学公式的  \n",
    "\\usepackage{mathrsfs} %提供数学花体"
   ]
  },
  {
   "cell_type": "markdown",
   "metadata": {
    "vscode": {
     "languageId": "plaintext"
    }
   },
   "source": [
    "## 设置文章格式  "
   ]
  },
  {
   "cell_type": "markdown",
   "metadata": {
    "jp-MarkdownHeadingCollapsed": true,
    "vscode": {
     "languageId": "plaintext"
    }
   },
   "source": [
    "\\geometry{left=2.5cm,right=2.5cm,top=2cm,bottom=2cm}%需要导入geometry包  \n",
    "\n",
    "\\pagestyle{}%来源于宏fancydhdr，参数empty -是设定每页页码为空，即不显示；fancy -自定义，\\fancyhf{}  \n",
    "\\fancyhf{}%分为页眉和页脚，其分别还有左中右(l,c,r -left,center,right)，如\\lhead{内容} -左页眉，\\rhead{内容} -右页眉;\n",
    "\\lhead{左页眉}  \n",
    "\\rhead{右页眉}  \n",
    "\\cfoot{居中页脚，一般用来编写页码}%\\cfoot{第 \\thepage 页（共 \\pageref{Lastpage} 页）}，其实现的效果为“第 1 页（共n页）”，\\thepage 是用来传递当前页码数，\\pageref{Lastpage} 是用来传递最后的页码数，且需要导入宏\\usepackage{lastpage}  \n",
    "去查询一下一某页为起始页的相关latex代码的实现"
   ]
  },
  {
   "attachments": {},
   "cell_type": "markdown",
   "metadata": {},
   "source": [
    "## 信息栏\n",
    "\\title{内容}  \n",
    "\\author{}  \n",
    "\\date{\\today}  \n",
    "\n",
    "\\maketitle -填写在正文中，会显示信息栏的内容即title，author，date"
   ]
  },
  {
   "cell_type": "markdown",
   "metadata": {
    "vscode": {
     "languageId": "plaintext"
    }
   },
   "source": [
    "# 正文区 -通常以\\\\begin{document}开始 ，\\\\end{document}结束"
   ]
  },
  {
   "cell_type": "markdown",
   "metadata": {},
   "source": [
    "\\begin{document}  \n",
    "%%正文区  \n",
    "%输入文本自动缩进，空行表示新的段落的开始，再次输入文字即新的段落产生  "
   ]
  },
  {
   "cell_type": "markdown",
   "metadata": {},
   "source": [
    "## \\maketitle  "
   ]
  },
  {
   "cell_type": "markdown",
   "metadata": {},
   "source": [
    "## 文本格式"
   ]
  },
  {
   "cell_type": "markdown",
   "metadata": {},
   "source": [
    "\\textbf{文本} %加粗,or选中ctrl+b  \n",
    "\\textit{文本} %斜体  \n",
    "\\underline{\\textbf{text}} %下划线，允许嵌套  "
   ]
  },
  {
   "cell_type": "markdown",
   "metadata": {},
   "source": [
    "## 标题"
   ]
  },
  {
   "cell_type": "markdown",
   "metadata": {},
   "source": [
    "\\section{text} %节，显示文章的节，大节，相当于一级标题，1  \n",
    "\\subsection{text1.1} %子节，相当于二级标题，1.1  \n",
    "\\subsection{text1.2} %子节，1.2  \n",
    "\\subsubsection{text1.1} %子子节，1.1相当于三级标题  "
   ]
  },
  {
   "cell_type": "markdown",
   "metadata": {},
   "source": [
    "## 生成目录 "
   ]
  },
  {
   "cell_type": "markdown",
   "metadata": {},
   "source": [
    "\\newpage %新起一页  \n",
    " \n",
    "\\tableofcontents %生成目录，目录是根据大纲内容生成的，大纲所显示的内容是根据section来生成的  \n",
    "\n",
    "\\newpage %新起一页  "
   ]
  },
  {
   "cell_type": "markdown",
   "metadata": {},
   "source": [
    "## 自动标号，序列"
   ]
  },
  {
   "cell_type": "markdown",
   "metadata": {},
   "source": [
    "### %序号自动更改，有序列表，自动更改  "
   ]
  },
  {
   "cell_type": "markdown",
   "metadata": {},
   "source": [
    "\\begin{enumerate}  \n",
    "\n",
    "%enumerate -列举，枚举，计算，可以理解为有序列表  \n",
    "%使用该命令之后会出现一个缩进的\\item命令  \n",
    "%其中用 \\item 来表示一个项，记得正文在命令后空格，如\\item 你好  \n",
    "    \\item a  \n",
    "    \\item b  \n",
    "    \\item c  \n",
    "\n",
    "\\end{enumerate}  "
   ]
  },
  {
   "cell_type": "markdown",
   "metadata": {},
   "source": [
    "### %无序列表  "
   ]
  },
  {
   "cell_type": "markdown",
   "metadata": {},
   "source": [
    "\\begin{itemize}  \n",
    "%itemize组条列记  \n",
    "\n",
    "\n",
    "\\end{itemize}  "
   ]
  },
  {
   "cell_type": "markdown",
   "metadata": {},
   "source": [
    "## %插入图片，图片的序号是自动生成的  "
   ]
  },
  {
   "cell_type": "markdown",
   "metadata": {},
   "source": [
    "%图片太多需要放在文件夹里那么直接调用图片则变成 文件夹名+/+图片名 如：figure/派大星.jpg\n",
    "\n",
    "\\begin{figure}[h] %使用该命令之后，会自动跳出四行缩进命令;如果不加[h]这个参数，则图片会默认插在当页的最上方，加上之后就会放在文本之后，还有很多参数可以自行了解  \n",
    "    \\centring %将图片居中处理  \n",
    "    \\includegrahics[]{} %大括号中插入图片的名称，一般是放在编辑的latex中interface工作栏的目录下；[]小括号内填写图片的格式大小，目前只学了的有两种，一种是绝对格式即 width = 5cm，另一种是利用宏\\textwidth 格式是 width = 0.6\\textwidth 即占页面的60%  \n",
    "    \\caption{} %文字说明，如 派大星 则在图片的下方会自动出现 图1：派大星  \n",
    "    \\label{} %可能用不上  \n",
    "\n",
    "\\end{figure}  "
   ]
  },
  {
   "cell_type": "markdown",
   "metadata": {},
   "source": [
    "## %插入并排图；采用页面分割的方法，有几个分割区就有几个minipage代码  "
   ]
  },
  {
   "cell_type": "markdown",
   "metadata": {},
   "source": [
    "\\begin{figure}[h]  \n",
    "\n",
    "    %页面分割的方法  \n",
    "    %第一个分割区\n",
    "    \\begin{minipage}[0.48] %[]指第一个页面占原来页面的0.48（分块也需要一定空间）因为我们想着是等分分割，即二等分，最好不要50%，同理三等分每个分块为0.3即可，如果设置0.33的话第三张图可能会排版到下一行，不能实现三图一行的效果  \n",
    "\n",
    "        \\centring  \n",
    "        \\includegrahics[width = 0.8\\textwidth]{派大星.jpg} %值得注意的是这里的0.8是分割后，第一个分割区（也就是0.48那个）的0.8占比图，用0.8是因为分割后图片太小，分割后的区域80%的图片占比大小    \n",
    "        \\caption{派大星}  \n",
    "\n",
    "    \\end{minipage}  \n",
    "    \n",
    "    %第二个分割区  \n",
    "    \\begin{minipage}[0.48]  \n",
    "\n",
    "\n",
    "        \\centring  \n",
    "        \\includegrahics[width = 0.8\\textwidth]{海绵宝宝.jpg}  \n",
    "        \\caption{海绵宝宝}  \n",
    "\n",
    "    \\end{}minipage  \n",
    "\n",
    "\n",
    "\n",
    "\\end{figure}  "
   ]
  },
  {
   "cell_type": "markdown",
   "metadata": {},
   "source": [
    "## 插入表格"
   ]
  },
  {
   "cell_type": "markdown",
   "metadata": {},
   "source": [
    "\\begin{table}[h]  \n",
    "%插入会出现五个命令  \n",
    "    \\centering %居中  \n",
    "    \n",
    "    %表格  \n",
    "    \n",
    "    \\begin{tabular}{c|c} %{ccc}无边框{|c|c|c|}有边框  \n",
    "    %参数c是指位置参数center也就是指在单元格里居中,(默认值),可以换成l,c,r;第有几个c就是几列，如三列 ccc,rrr,lll；  \n",
    "    %&在lattex中表示单元格的分隔；  \n",
    "    %\\\\双斜线表示换行的意思；  \n",
    "    %|是指添加表格中的竖直分割线，即竖直边框；  \n",
    "    %而行边框需要用命令\\hline,添加到对应行的上方，下方添加进行封闭  \n",
    "    %%表一，无任何修改，空表\n",
    "        |&|\\\\ %默认生成值  \n",
    "        |&|\\\\ %默认生成值  \n",
    "    %%数字九宫格的写法  \n",
    "    \n",
    "        \\hline  \n",
    "        1&2&3\\\\  \n",
    "        \\hline  \n",
    "        4&5&6\\\\  \n",
    "        \\hline  \n",
    "        7&8&9\\\\  \n",
    "        \\hline  \n",
    "\n",
    "    %%三线表，需要导入宏包\\usepackage{booktas}  \n",
    "    \\toprule  \n",
    "    物理符号 & 物理意义\\\\  \n",
    "    \\midrule  \n",
    "    I & 电流\\\\  \n",
    "    U & 电压\\\\  \n",
    "    C & 电容\\\\\n",
    "    \\bottomrule\n",
    "    \n",
    "    \\end{tabular}  \n",
    "\n",
    "    \n",
    "    \\caption{caption}\n",
    "    \\label{tab:my_label} %不会用到\n",
    "\n",
    "\n",
    "\\end{table}  "
   ]
  },
  {
   "cell_type": "markdown",
   "metadata": {},
   "source": [
    "## 数学公式"
   ]
  },
  {
   "cell_type": "markdown",
   "metadata": {},
   "source": [
    "### 行内公式"
   ]
  },
  {
   "cell_type": "markdown",
   "metadata": {},
   "source": [
    "%%是将数学公式放入两个美元字符之间，且两个美元字符之间不出现任何中文字符和中文符号，只能是英文（好像加中文也不会报错jupyter中）  \n",
    "已知 a=b=3 则a+b=6  \n",
    "已知$a=b=3$，则$a+b=6$  \n",
    "%第二行利用行内公式书写更加美观  \n",
    "%要显示得更完美，如分数在行内公式里显示得大小不一致可以加\\displaystyle 在公式之前（外显公式不需要加，因为外显会自动成为数学标准格式），如：  \n",
    "$1+\\frac{1}{2}=\\frac{3}{2}$   \n",
    "$\\displaystyle 1+\\frac{1}{2}=\\frac{3}{2}$  \n",
    "%%\\displaystyle和\\frac可以简写\\dfrac{}{}  \n",
    "$1+\\dfrac{1}{2}=\\dfrac{3}{2}$  "
   ]
  },
  {
   "cell_type": "markdown",
   "metadata": {},
   "source": [
    "### 外显公式"
   ]
  },
  {
   "cell_type": "markdown",
   "metadata": {},
   "source": [
    "%%会自动编号，文章中第一个编辑的外显公式会编号为（1），若不想编号则在 环境参数中添加* 即将参数equation改为equation*  \n",
    "\n",
    "如：已知$a=b=3$,则  \n",
    "\\begin{equation}  \n",
    "\n",
    "    a+b=3\\,.\n",
    "\\end{equation}\n",
    "\n",
    "\n",
    "\\end{docment}  \n",
    "\n",
    "外显公式还可以\\[x^2\\]格式(反斜杠+左中括号公式+反斜杠+右中括号)，这种格式不会生成编号，也就等于\\begin{equaion*} x^2 \\end{equation*}  \n"
   ]
  },
  {
   "cell_type": "markdown",
   "metadata": {
    "vscode": {
     "languageId": "plaintext"
    }
   },
   "source": [
    "取消部分等式的编号用\\notag  \n",
    "$$\n",
    "\\begin{align}\n",
    "  a &= b + c \\notag \\\\\n",
    "  d &= e + f\\\\\n",
    "  &=l+t\\\\\n",
    "  &=n \\notag\n",
    "\n",
    "\\end{align}\n",
    "$$"
   ]
  },
  {
   "cell_type": "markdown",
   "metadata": {},
   "source": [
    "对公式整体标号\\begin{aligned}\\end{aligned}  \n",
    "$$\n",
    "\\begin{equation}  % 整体作为一个编号\n",
    "  \\begin{aligned}\n",
    "    a &= b + c \\\\\n",
    "    d &= e + f\n",
    "  \\end{aligned}\n",
    "\\end{equation}\n",
    "$$\n",
    "另一种方法，使用\\begin{split}环境  \n",
    "$$\n",
    "\\begin{equation}\n",
    "  \\begin{split}\n",
    "    a &= b + c \\\\\n",
    "    d &= e + f\n",
    "  \\end{split}\n",
    "\\end{equation}\n",
    "\n",
    "\n",
    "$$\n",
    "\n"
   ]
  },
  {
   "cell_type": "markdown",
   "metadata": {},
   "source": [
    "# 文献引用 -bibliography 文献目录；参考书目\n",
    "%这里介绍一个有关文献的宏包（中文-即国标） \\usepackage[]{gbt7714} %[]参数可以有super numbers authoryear，一般用numbers呈现的效果就是[1]  \n",
    "\n",
    "\\bibliography{filename} %一般放在最后，其会自动生成“参考文献”这四个字，还有就是生成filename.bib里面的文献（其他的论文文献格式也可以用，跟gbt7714一模一样的）  \n",
    "\n",
    "关于filename.bib文件，需要自创（该文件可以直接用txt文件打开），然后从文献下载的网站的文献导出格式选择bibtex然后将复制的内容粘贴到filename.bib  \n",
    "\n",
    "在文中引用时还是用\\cite{label}（或\\upcite{label}）  \n"
   ]
  },
  {
   "cell_type": "markdown",
   "metadata": {},
   "source": [
    "其格式为：  \n",
    "%在正文前先确定bibliography的格式  \n",
    "\n",
    "\\bibliographystyle{plian}  \n",
    "\n",
    "%在正文内,\\bibliography{bib_filename}一般放在最后，因为你放在哪个位置就在对应位置生成“参考文献”以及引用过的文献的目录（可以通过一些特定的方法显示没有引用的文献）    \n",
    "\n",
    "\\begin{document}  \n",
    "\n",
    "\n",
    "    \\bibliography{bib_filename}\n",
    "\\end{document}"
   ]
  },
  {
   "cell_type": "markdown",
   "metadata": {},
   "source": [
    "如下（在编辑模型下看才是真正格式）： "
   ]
  },
  {
   "cell_type": "markdown",
   "metadata": {},
   "source": [
    "@article{GJJR20240812004,\n",
    "author = {  崔婕 and     蔡源 and 沈沛龙},\n",
    "title = {气候物理风险对实体行业与金融体系间风险交互溢出效应的影响研究},\n",
    "journal = {国际金融研究},\n",
    "number = {08},\n",
    " pages = {26-38},\n",
    "year = {2024},\n",
    "issn = {1006-1029},\n",
    "doi = {10.16475/j.cnki.1006-1029.2024.08.00}\n",
    "}    \n",
    "容\n",
    "}    \n"
   ]
  },
  {
   "cell_type": "markdown",
   "metadata": {},
   "source": [
    "其中“GJJR20240812004”是论文网站自动生成的标签，建议可以改动一些，但是texstudio \\cite{}的时候可以自动出现提示文献内容"
   ]
  },
  {
   "cell_type": "markdown",
   "metadata": {},
   "source": [
    "例子如下"
   ]
  },
  {
   "cell_type": "markdown",
   "metadata": {},
   "source": [
    "要求收敛域无非就是找收敛半径，由$\\sum_{n=1}^{\\infty} na_n(x-2)^n$和收敛区间为$(-2,6)$可得知$r=4$,"
   ]
  }
 ],
 "metadata": {
  "kernelspec": {
   "display_name": "Python 3 (ipykernel)",
   "language": "python",
   "name": "python3"
  },
  "language_info": {
   "codemirror_mode": {
    "name": "ipython",
    "version": 3
   },
   "file_extension": ".py",
   "mimetype": "text/x-python",
   "name": "python",
   "nbconvert_exporter": "python",
   "pygments_lexer": "ipython3",
   "version": "3.12.4"
  }
 },
 "nbformat": 4,
 "nbformat_minor": 4
}
