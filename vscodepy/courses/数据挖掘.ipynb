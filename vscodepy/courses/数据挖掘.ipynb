{
 "cells": [
  {
   "cell_type": "markdown",
   "metadata": {},
   "source": [
    "降维、特征提取、变量（数据）筛选都是一个意思"
   ]
  },
  {
   "cell_type": "markdown",
   "metadata": {},
   "source": [
    "* 二元属性，又称布尔属性\n",
    "* 序数属性\n",
    "* 数值属性"
   ]
  },
  {
   "cell_type": "code",
   "execution_count": null,
   "metadata": {
    "vscode": {
     "languageId": "plaintext"
    }
   },
   "outputs": [],
   "source": [
    "相关系数可以用来降维  \n",
    "相关系数图可以表现出两两之间的相关性  \n",
    "留白越多相关性越弱  \n",
    "相关性很强的参数可以替代，弱的在函数中都选上（变量独立）"
   ]
  },
  {
   "cell_type": "markdown",
   "metadata": {
    "vscode": {
     "languageId": "plaintext"
    }
   },
   "source": [
    "箱型图可以将连续（或离散）的数据按比例分类  \n",
    "小提琴图更表现了出了其各个值的核密度  \n",
    "气泡图的大小和颜色可以分别增加一个维度  \n",
    "图形的可视化图片比例很重要  "
   ]
  }
 ],
 "metadata": {
  "kernelspec": {
   "display_name": "Python 3 (ipykernel)",
   "language": "python",
   "name": "python3"
  },
  "language_info": {
   "codemirror_mode": {
    "name": "ipython",
    "version": 3
   },
   "file_extension": ".py",
   "mimetype": "text/x-python",
   "name": "python",
   "nbconvert_exporter": "python",
   "pygments_lexer": "ipython3",
   "version": "3.12.4"
  }
 },
 "nbformat": 4,
 "nbformat_minor": 4
}
